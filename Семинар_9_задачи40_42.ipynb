{
  "nbformat": 4,
  "nbformat_minor": 0,
  "metadata": {
    "colab": {
      "provenance": [],
      "authorship_tag": "ABX9TyPof00JRMC0vbQNP50HGWnM",
      "include_colab_link": true
    },
    "kernelspec": {
      "name": "python3",
      "display_name": "Python 3"
    },
    "language_info": {
      "name": "python"
    }
  },
  "cells": [
    {
      "cell_type": "markdown",
      "metadata": {
        "id": "view-in-github",
        "colab_type": "text"
      },
      "source": [
        "<a href=\"https://colab.research.google.com/github/IrinaTep/-Cs_seminar3-6/blob/main/%D0%A1%D0%B5%D0%BC%D0%B8%D0%BD%D0%B0%D1%80_9_%D0%B7%D0%B0%D0%B4%D0%B0%D1%87%D0%B840_42.ipynb\" target=\"_parent\"><img src=\"https://colab.research.google.com/assets/colab-badge.svg\" alt=\"Open In Colab\"/></a>"
      ]
    },
    {
      "cell_type": "markdown",
      "source": [
        "Задача 40: Работать с файлом california_housing_train.csv, который находится в папке sample_data. Определить среднюю стоимость дома, где кол-во людей от 0 до 500 (population)."
      ],
      "metadata": {
        "id": "isMbhmuh2Umm"
      }
    },
    {
      "cell_type": "code",
      "execution_count": 2,
      "metadata": {
        "id": "wnyxcHRo2AyS"
      },
      "outputs": [],
      "source": [
        "import pandas as pd\n"
      ]
    },
    {
      "cell_type": "code",
      "source": [
        "data = pd.read_csv('/content/sample_data/california_housing_train.csv')\n"
      ],
      "metadata": {
        "id": "Ihp-VkED2in1"
      },
      "execution_count": 3,
      "outputs": []
    },
    {
      "cell_type": "code",
      "source": [
        "filtered_data = data[(data['population'] >= 0) & (data['population'] <= 500)]"
      ],
      "metadata": {
        "id": "0E0xHxP52nnD"
      },
      "execution_count": 4,
      "outputs": []
    },
    {
      "cell_type": "code",
      "source": [
        "average_price = filtered_data['median_house_value'].mean()"
      ],
      "metadata": {
        "id": "1JXZkNtN2sOr"
      },
      "execution_count": 5,
      "outputs": []
    },
    {
      "cell_type": "code",
      "source": [
        "print(\"Средняя стоимость дома с количеством людей от 0 до 500:\", average_price)"
      ],
      "metadata": {
        "colab": {
          "base_uri": "https://localhost:8080/"
        },
        "id": "5wZYpfct2wEZ",
        "outputId": "25f1498a-af09-40a9-d5e1-5b7ef6194095"
      },
      "execution_count": 6,
      "outputs": [
        {
          "output_type": "stream",
          "name": "stdout",
          "text": [
            "Средняя стоимость дома с количеством людей от 0 до 500: 206799.95140186916\n"
          ]
        }
      ]
    },
    {
      "cell_type": "markdown",
      "source": [
        "Задача 42: Узнать какая максимальная households в зоне минимального значения population."
      ],
      "metadata": {
        "id": "LXZLS4c82yje"
      }
    },
    {
      "cell_type": "code",
      "source": [
        "min_population = data['population'].min()"
      ],
      "metadata": {
        "id": "7cB7BvfK23XB"
      },
      "execution_count": 7,
      "outputs": []
    },
    {
      "cell_type": "code",
      "source": [
        "filtered_data = data[data['population'] == min_population]\n"
      ],
      "metadata": {
        "id": "Hktj23yH3Dko"
      },
      "execution_count": 8,
      "outputs": []
    },
    {
      "cell_type": "code",
      "source": [
        "max_households = filtered_data['households'].max()"
      ],
      "metadata": {
        "id": "UJvIp1yk3E02"
      },
      "execution_count": 9,
      "outputs": []
    },
    {
      "cell_type": "code",
      "source": [
        "print(\"Максимальное значение households в зоне минимального значения population:\", max_households)"
      ],
      "metadata": {
        "colab": {
          "base_uri": "https://localhost:8080/"
        },
        "id": "fP-c4kkf3Gdk",
        "outputId": "73542a34-d2eb-4389-d533-0fee76c2fc12"
      },
      "execution_count": 10,
      "outputs": [
        {
          "output_type": "stream",
          "name": "stdout",
          "text": [
            "Максимальное значение households в зоне минимального значения population: 4.0\n"
          ]
        }
      ]
    }
  ]
}